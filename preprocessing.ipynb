{
 "cells": [
  {
   "cell_type": "code",
   "execution_count": 34,
   "id": "2e15aea1",
   "metadata": {},
   "outputs": [],
   "source": [
    "import pandas as pd"
   ]
  },
  {
   "cell_type": "code",
   "execution_count": 41,
   "id": "27968530",
   "metadata": {},
   "outputs": [],
   "source": [
    "admissions = pd.read_csv(\"./ADMISSIONS.csv\")\n",
    "# print statements are commented to not show any data from MIMIC-III\n",
    "# admissions.head()"
   ]
  },
  {
   "cell_type": "code",
   "execution_count": 42,
   "id": "5eb5081e",
   "metadata": {},
   "outputs": [],
   "source": [
    "admissions = admissions[[\"SUBJECT_ID\", \"HADM_ID\", \"ADMITTIME\"]]\n",
    "\n",
    "admissions = admissions.rename(columns={\n",
    "    \"SUBJECT_ID\": \"subject_id\", \n",
    "    \"HADM_ID\": \"hadm_id\", \n",
    "    \"ADMITTIME\": \"timestamp\"\n",
    "    })\n",
    "# admissions"
   ]
  },
  {
   "cell_type": "code",
   "execution_count": 43,
   "id": "9d297c9a",
   "metadata": {},
   "outputs": [
    {
     "name": "stderr",
     "output_type": "stream",
     "text": [
      "C:\\Users\\eunic\\anaconda3\\lib\\site-packages\\IPython\\core\\interactiveshell.py:3165: DtypeWarning: Columns (4,5) have mixed types.Specify dtype option on import or set low_memory=False.\n",
      "  has_raised = await self.run_ast_nodes(code_ast.body, cell_name,\n"
     ]
    }
   ],
   "source": [
    "notes = pd.read_csv(\"./NOTEEVENTS.csv\")\n",
    "# notes.head()"
   ]
  },
  {
   "cell_type": "code",
   "execution_count": 44,
   "id": "27d895e4",
   "metadata": {},
   "outputs": [],
   "source": [
    "notes = notes[[\"SUBJECT_ID\", \"HADM_ID\", \"CHARTTIME\", \"TEXT\"]]\n",
    "# notes.head()"
   ]
  },
  {
   "cell_type": "code",
   "execution_count": 45,
   "id": "da75ced9",
   "metadata": {},
   "outputs": [],
   "source": [
    "notes_with_charttime = notes[~pd.isnull(notes['CHARTTIME'])]['CHARTTIME']\n",
    "# notes_with_charttime"
   ]
  },
  {
   "cell_type": "code",
   "execution_count": 46,
   "id": "8aded3bc",
   "metadata": {},
   "outputs": [
    {
     "name": "stdout",
     "output_type": "stream",
     "text": [
      "Number of rows in NOTEEVENTS.csv:  (2083180, 4)\n",
      "Number of rows in NOTEEVENTS.csv with non-emtpy CHARTTIME field (1766614,)\n"
     ]
    }
   ],
   "source": [
    "print(\"Number of rows in NOTEEVENTS.csv: \", notes.shape)\n",
    "print(\"Number of rows in NOTEEVENTS.csv with non-emtpy CHARTTIME field\", notes_with_charttime.shape)"
   ]
  },
  {
   "cell_type": "code",
   "execution_count": 49,
   "id": "e6c3d7dc",
   "metadata": {},
   "outputs": [],
   "source": [
    "patients = pd.read_csv(\"./PATIENTS.csv\")\n",
    "# patients.head()['DOD']"
   ]
  },
  {
   "cell_type": "code",
   "execution_count": 50,
   "id": "db13f83b",
   "metadata": {},
   "outputs": [],
   "source": [
    "# Building labels for mortality prediction\n",
    "patients['label'] = (~pd.isnull(patients.head()['DOD'])).astype(int)"
   ]
  },
  {
   "cell_type": "code",
   "execution_count": 51,
   "id": "b4c57872",
   "metadata": {},
   "outputs": [],
   "source": [
    "patients = patients[[\"SUBJECT_ID\", \"label\"]]\n",
    "patients = patients.rename(columns={\"SUBJECT_ID\": \"subject_id\"})\n",
    "# patients.head()"
   ]
  },
  {
   "cell_type": "code",
   "execution_count": 52,
   "id": "a142a95d",
   "metadata": {},
   "outputs": [],
   "source": [
    "labels = pd.merge(patients, admissions, on=\"subject_id\")\n",
    "labels = labels[[\"subject_id\",\"hadm_id\",\"timestamp\",\"label\"]]\n",
    "labels['label'] = labels['label'].fillna(0)\n",
    "labels['label'] = labels['label'].astype(int)\n",
    "# labels"
   ]
  },
  {
   "cell_type": "code",
   "execution_count": 66,
   "id": "dc77f399",
   "metadata": {},
   "outputs": [],
   "source": [
    "chronologies = pd.read_csv(\"../public_mm_lite/chronologies.csv\")\n",
    "test_chronologies = pd.read_csv(\"../public_mm_lite/test.chronologies.csv\")\n",
    "train_chronologies = pd.read_csv(\"../public_mm_lite/train.chronologies.csv\")\n",
    "devel_chronologies = pd.read_csv(\"../public_mm_lite/devel.chronologies.csv\")\n",
    "# chronologies"
   ]
  },
  {
   "cell_type": "code",
   "execution_count": 67,
   "id": "0c9d3c91",
   "metadata": {},
   "outputs": [],
   "source": [
    "# test_labels = pd.merge(test_chronologies[[\"subject_id\", \"hadm_id\"]], labels, on=[\"subject_id\", \"hadm_id\"])\n",
    "# train_labels = pd.merge(train_chronologies[[\"subject_id\", \"hadm_id\"]], labels, on=[\"subject_id\", \"hadm_id\"])\n",
    "# devel_labels = pd.merge(devel_chronologies[[\"subject_id\", \"hadm_id\"]], labels, on=[\"subject_id\", \"hadm_id\"])\n",
    "\n",
    "# test_labels.groupby([\"hadm_id\"])['timestamp'].agg('min').reset_index(name=\"timestamp\").to_csv(\"test.labels.csv\", index=False)\n",
    "# train_labels.groupby([\"hadm_id\"])['timestamp'].agg('min').reset_index(name=\"timestamp\").to_csv(\"train.labels.csv\", index=False)\n",
    "# devel_labels.groupby([\"hadm_id\"])['timestamp'].agg('min').reset_index(name=\"timestamp\").to_csv(\"devel.labels.csv\", index=False)"
   ]
  },
  {
   "cell_type": "code",
   "execution_count": 71,
   "id": "35950f33",
   "metadata": {},
   "outputs": [],
   "source": [
    "# Prepare chronology files\n",
    "test_chronologies = test_chronologies.groupby([\"hadm_id\"]).agg({'subject_id': 'min', 'timestamp': 'max', 'observations': lambda x: \" \".join(x)}).reset_index(\"hadm_id\")\n",
    "test_chronologies = test_chronologies[['subject_id', 'hadm_id', 'timestamp', 'observations']]\n",
    "test_chronologies.to_csv(\"test.chronologies.csv\", index=False)\n",
    "\n",
    "train_chronologies['observations'] = train_chronologies['observations'].apply(lambda x: str(x))\n",
    "train_chronologies = train_chronologies.groupby([\"hadm_id\"]).agg({'subject_id': 'min', 'timestamp': 'max', 'observations': lambda x: \" \".join(x)}).reset_index(\"hadm_id\")\n",
    "train_chronologies = train_chronologies[['subject_id', 'hadm_id', 'timestamp', 'observations']]\n",
    "train_chronologies.to_csv(\"train.chronologies.csv\", index=False)\n",
    "\n",
    "devel_chronologies = devel_chronologies.groupby([\"hadm_id\"]).agg({'subject_id': 'min', 'timestamp': 'max', 'observations': lambda x: \" \".join(x)}).reset_index(\"hadm_id\")\n",
    "devel_chronologies = devel_chronologies[['subject_id', 'hadm_id', 'timestamp', 'observations']]\n",
    "devel_chronologies.to_csv(\"devel.chronologies.csv\", index=False)"
   ]
  },
  {
   "cell_type": "code",
   "execution_count": 72,
   "id": "c6281521",
   "metadata": {},
   "outputs": [],
   "source": [
    "# Prepare admittimes files\n",
    "test_admittimes = pd.merge(test_chronologies[[\"subject_id\", \"hadm_id\"]], admissions, on=[\"subject_id\", \"hadm_id\"])\n",
    "test_admittimes.to_csv(\"test.admittimes.csv\", index=False)\n",
    "\n",
    "train_admittimes = pd.merge(train_chronologies[[\"subject_id\", \"hadm_id\"]], admissions, on=[\"subject_id\", \"hadm_id\"])\n",
    "train_admittimes.to_csv(\"train.admittimes.csv\", index=False)\n",
    "\n",
    "devel_admittimes = pd.merge(devel_chronologies[[\"subject_id\", \"hadm_id\"]], admissions, on=[\"subject_id\", \"hadm_id\"])\n",
    "devel_admittimes.to_csv(\"devel.admittimes.csv\", index=False)"
   ]
  },
  {
   "cell_type": "code",
   "execution_count": 73,
   "id": "a40e70e3",
   "metadata": {},
   "outputs": [],
   "source": [
    "# Prepare labels files\n",
    "test_labels = pd.merge(test_chronologies[[\"subject_id\", \"hadm_id\"]], labels, on=[\"subject_id\", \"hadm_id\"])\n",
    "test_labels.to_csv(\"test.labels.csv\", index=False)\n",
    "\n",
    "train_labels = pd.merge(train_chronologies[[\"subject_id\", \"hadm_id\"]], labels, on=[\"subject_id\", \"hadm_id\"])\n",
    "train_labels.to_csv(\"train.labels.csv\", index=False)\n",
    "\n",
    "devel_labels = pd.merge(devel_chronologies[[\"subject_id\", \"hadm_id\"]], labels, on=[\"subject_id\", \"hadm_id\"])\n",
    "devel_labels.to_csv(\"devel.labels.csv\", index=False)"
   ]
  },
  {
   "cell_type": "code",
   "execution_count": 77,
   "id": "a4515e84",
   "metadata": {},
   "outputs": [
    {
     "name": "stdout",
     "output_type": "stream",
     "text": [
      "Number of test chronologies: 33\n",
      "Number of train chronologies: 57\n",
      "Number of devel chronologies: 37\n"
     ]
    }
   ],
   "source": [
    "print(\"Number of test chronologies:\", test_chronologies.groupby([\"hadm_id\"]).count().shape[0])\n",
    "print(\"Number of train chronologies:\", train_chronologies.groupby([\"hadm_id\"]).count().shape[0])\n",
    "print(\"Number of devel chronologies:\", devel_chronologies.groupby([\"hadm_id\"]).count().shape[0])"
   ]
  },
  {
   "cell_type": "code",
   "execution_count": null,
   "id": "a1912077",
   "metadata": {},
   "outputs": [],
   "source": []
  }
 ],
 "metadata": {
  "kernelspec": {
   "display_name": "Python 3",
   "language": "python",
   "name": "python3"
  },
  "language_info": {
   "codemirror_mode": {
    "name": "ipython",
    "version": 3
   },
   "file_extension": ".py",
   "mimetype": "text/x-python",
   "name": "python",
   "nbconvert_exporter": "python",
   "pygments_lexer": "ipython3",
   "version": "3.8.8"
  }
 },
 "nbformat": 4,
 "nbformat_minor": 5
}
